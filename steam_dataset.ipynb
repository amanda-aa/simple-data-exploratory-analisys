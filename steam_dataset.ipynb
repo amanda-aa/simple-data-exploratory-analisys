{
 "cells": [
  {
   "cell_type": "code",
   "execution_count": 5,
   "id": "55c734a5",
   "metadata": {},
   "outputs": [],
   "source": [
    "import pandas as pd\n",
    "import matplotlib.pyplot as plt\n",
    "import seaborn as sns"
   ]
  },
  {
   "cell_type": "code",
   "execution_count": 15,
   "id": "21425d85",
   "metadata": {
    "scrolled": true
   },
   "outputs": [
    {
     "data": {
      "text/html": [
       "<div>\n",
       "<style scoped>\n",
       "    .dataframe tbody tr th:only-of-type {\n",
       "        vertical-align: middle;\n",
       "    }\n",
       "\n",
       "    .dataframe tbody tr th {\n",
       "        vertical-align: top;\n",
       "    }\n",
       "\n",
       "    .dataframe thead th {\n",
       "        text-align: right;\n",
       "    }\n",
       "</style>\n",
       "<table border=\"1\" class=\"dataframe\">\n",
       "  <thead>\n",
       "    <tr style=\"text-align: right;\">\n",
       "      <th></th>\n",
       "      <th>151603712</th>\n",
       "      <th>The Elder Scrolls V Skyrim</th>\n",
       "      <th>purchase</th>\n",
       "      <th>1.0</th>\n",
       "      <th>0</th>\n",
       "    </tr>\n",
       "  </thead>\n",
       "  <tbody>\n",
       "    <tr>\n",
       "      <th>0</th>\n",
       "      <td>151603712</td>\n",
       "      <td>The Elder Scrolls V Skyrim</td>\n",
       "      <td>play</td>\n",
       "      <td>273.0</td>\n",
       "      <td>0</td>\n",
       "    </tr>\n",
       "    <tr>\n",
       "      <th>1</th>\n",
       "      <td>151603712</td>\n",
       "      <td>Fallout 4</td>\n",
       "      <td>purchase</td>\n",
       "      <td>1.0</td>\n",
       "      <td>0</td>\n",
       "    </tr>\n",
       "    <tr>\n",
       "      <th>2</th>\n",
       "      <td>151603712</td>\n",
       "      <td>Fallout 4</td>\n",
       "      <td>play</td>\n",
       "      <td>87.0</td>\n",
       "      <td>0</td>\n",
       "    </tr>\n",
       "    <tr>\n",
       "      <th>3</th>\n",
       "      <td>151603712</td>\n",
       "      <td>Spore</td>\n",
       "      <td>purchase</td>\n",
       "      <td>1.0</td>\n",
       "      <td>0</td>\n",
       "    </tr>\n",
       "    <tr>\n",
       "      <th>4</th>\n",
       "      <td>151603712</td>\n",
       "      <td>Spore</td>\n",
       "      <td>play</td>\n",
       "      <td>14.9</td>\n",
       "      <td>0</td>\n",
       "    </tr>\n",
       "    <tr>\n",
       "      <th>5</th>\n",
       "      <td>151603712</td>\n",
       "      <td>Fallout New Vegas</td>\n",
       "      <td>purchase</td>\n",
       "      <td>1.0</td>\n",
       "      <td>0</td>\n",
       "    </tr>\n",
       "    <tr>\n",
       "      <th>6</th>\n",
       "      <td>151603712</td>\n",
       "      <td>Fallout New Vegas</td>\n",
       "      <td>play</td>\n",
       "      <td>12.1</td>\n",
       "      <td>0</td>\n",
       "    </tr>\n",
       "    <tr>\n",
       "      <th>7</th>\n",
       "      <td>151603712</td>\n",
       "      <td>Left 4 Dead 2</td>\n",
       "      <td>purchase</td>\n",
       "      <td>1.0</td>\n",
       "      <td>0</td>\n",
       "    </tr>\n",
       "    <tr>\n",
       "      <th>8</th>\n",
       "      <td>151603712</td>\n",
       "      <td>Left 4 Dead 2</td>\n",
       "      <td>play</td>\n",
       "      <td>8.9</td>\n",
       "      <td>0</td>\n",
       "    </tr>\n",
       "    <tr>\n",
       "      <th>9</th>\n",
       "      <td>151603712</td>\n",
       "      <td>HuniePop</td>\n",
       "      <td>purchase</td>\n",
       "      <td>1.0</td>\n",
       "      <td>0</td>\n",
       "    </tr>\n",
       "  </tbody>\n",
       "</table>\n",
       "</div>"
      ],
      "text/plain": [
       "   151603712  The Elder Scrolls V Skyrim  purchase    1.0  0\n",
       "0  151603712  The Elder Scrolls V Skyrim      play  273.0  0\n",
       "1  151603712                   Fallout 4  purchase    1.0  0\n",
       "2  151603712                   Fallout 4      play   87.0  0\n",
       "3  151603712                       Spore  purchase    1.0  0\n",
       "4  151603712                       Spore      play   14.9  0\n",
       "5  151603712           Fallout New Vegas  purchase    1.0  0\n",
       "6  151603712           Fallout New Vegas      play   12.1  0\n",
       "7  151603712               Left 4 Dead 2  purchase    1.0  0\n",
       "8  151603712               Left 4 Dead 2      play    8.9  0\n",
       "9  151603712                    HuniePop  purchase    1.0  0"
      ]
     },
     "execution_count": 15,
     "metadata": {},
     "output_type": "execute_result"
    }
   ],
   "source": [
    "steam = pd.read_csv(r\"C:/Users/Acer/Downloads/steam-200k.csv\")\n",
    "steam.head(10)"
   ]
  },
  {
   "cell_type": "code",
   "execution_count": 8,
   "id": "fbb070e6",
   "metadata": {
    "scrolled": true
   },
   "outputs": [
    {
     "data": {
      "text/plain": [
       "Index(['151603712', 'The Elder Scrolls V Skyrim', 'purchase', '1.0', '0'], dtype='object')"
      ]
     },
     "execution_count": 8,
     "metadata": {},
     "output_type": "execute_result"
    }
   ],
   "source": [
    "steam.columns"
   ]
  },
  {
   "cell_type": "code",
   "execution_count": 27,
   "id": "4c16366a",
   "metadata": {},
   "outputs": [],
   "source": [
    "steam.rename(columns={'The Elder Scrolls V Skyrim':'game', 'purchase':'behavior','1.0':'hoursplay'}, inplace=True)"
   ]
  },
  {
   "cell_type": "code",
   "execution_count": 28,
   "id": "3b42c8ad",
   "metadata": {
    "scrolled": true
   },
   "outputs": [],
   "source": [
    "obs=steam['behavior'].to_list()"
   ]
  },
  {
   "cell_type": "code",
   "execution_count": 29,
   "id": "25eb8241",
   "metadata": {},
   "outputs": [
    {
     "data": {
      "text/plain": [
       "129510"
      ]
     },
     "execution_count": 29,
     "metadata": {},
     "output_type": "execute_result"
    }
   ],
   "source": [
    "obs.count('purchase')"
   ]
  },
  {
   "cell_type": "code",
   "execution_count": 30,
   "id": "5fe57a85",
   "metadata": {},
   "outputs": [
    {
     "data": {
      "text/plain": [
       "70489"
      ]
     },
     "execution_count": 30,
     "metadata": {},
     "output_type": "execute_result"
    }
   ],
   "source": [
    "obs.count('play')"
   ]
  },
  {
   "cell_type": "code",
   "execution_count": 31,
   "id": "5b2c4810",
   "metadata": {},
   "outputs": [
    {
     "data": {
      "text/plain": [
       "151603712           309903146\n",
       "game         theHunter Primal\n",
       "behavior             purchase\n",
       "hoursplay             11754.0\n",
       "0                           0\n",
       "dtype: object"
      ]
     },
     "execution_count": 31,
     "metadata": {},
     "output_type": "execute_result"
    }
   ],
   "source": [
    "steam.max()"
   ]
  },
  {
   "cell_type": "code",
   "execution_count": 32,
   "id": "2aa5349b",
   "metadata": {
    "scrolled": true
   },
   "outputs": [
    {
     "data": {
      "text/plain": [
       "114969        0.1\n",
       "92033         0.1\n",
       "92031         0.1\n",
       "36814         0.1\n",
       "56283         0.1\n",
       "           ...   \n",
       "183460     6964.0\n",
       "165595     7765.0\n",
       "187004     9640.0\n",
       "112642    10442.0\n",
       "123725    11754.0\n",
       "Name: hoursplay, Length: 199999, dtype: float64"
      ]
     },
     "execution_count": 32,
     "metadata": {},
     "output_type": "execute_result"
    }
   ],
   "source": [
    "steam['hoursplay'].sort_values()"
   ]
  },
  {
   "cell_type": "code",
   "execution_count": 33,
   "id": "ff41b378",
   "metadata": {},
   "outputs": [
    {
     "data": {
      "text/plain": [
       "151603712                      73017395\n",
       "game         Sid Meier's Civilization V\n",
       "behavior                           play\n",
       "hoursplay                       11754.0\n",
       "0                                     0\n",
       "Name: 123725, dtype: object"
      ]
     },
     "execution_count": 33,
     "metadata": {},
     "output_type": "execute_result"
    }
   ],
   "source": [
    "steam.loc[123725]"
   ]
  },
  {
   "cell_type": "code",
   "execution_count": 34,
   "id": "5e5ff2f2",
   "metadata": {},
   "outputs": [
    {
     "data": {
      "text/html": [
       "<div>\n",
       "<style scoped>\n",
       "    .dataframe tbody tr th:only-of-type {\n",
       "        vertical-align: middle;\n",
       "    }\n",
       "\n",
       "    .dataframe tbody tr th {\n",
       "        vertical-align: top;\n",
       "    }\n",
       "\n",
       "    .dataframe thead th {\n",
       "        text-align: right;\n",
       "    }\n",
       "</style>\n",
       "<table border=\"1\" class=\"dataframe\">\n",
       "  <thead>\n",
       "    <tr style=\"text-align: right;\">\n",
       "      <th></th>\n",
       "      <th>151603712</th>\n",
       "      <th>game</th>\n",
       "      <th>behavior</th>\n",
       "      <th>hoursplay</th>\n",
       "      <th>0</th>\n",
       "    </tr>\n",
       "  </thead>\n",
       "  <tbody>\n",
       "    <tr>\n",
       "      <th>84605</th>\n",
       "      <td>88035166</td>\n",
       "      <td>Castle Crashers</td>\n",
       "      <td>purchase</td>\n",
       "      <td>1.0</td>\n",
       "      <td>0</td>\n",
       "    </tr>\n",
       "    <tr>\n",
       "      <th>76943</th>\n",
       "      <td>86469479</td>\n",
       "      <td>Antisquad Tasks in North Korea. Tactics DLC</td>\n",
       "      <td>purchase</td>\n",
       "      <td>1.0</td>\n",
       "      <td>0</td>\n",
       "    </tr>\n",
       "    <tr>\n",
       "      <th>146287</th>\n",
       "      <td>103624897</td>\n",
       "      <td>Grand Theft Auto San Andreas</td>\n",
       "      <td>play</td>\n",
       "      <td>1.9</td>\n",
       "      <td>0</td>\n",
       "    </tr>\n",
       "    <tr>\n",
       "      <th>147464</th>\n",
       "      <td>47063596</td>\n",
       "      <td>Insurgency</td>\n",
       "      <td>purchase</td>\n",
       "      <td>1.0</td>\n",
       "      <td>0</td>\n",
       "    </tr>\n",
       "    <tr>\n",
       "      <th>31324</th>\n",
       "      <td>99077905</td>\n",
       "      <td>Hitman Absolution</td>\n",
       "      <td>play</td>\n",
       "      <td>0.5</td>\n",
       "      <td>0</td>\n",
       "    </tr>\n",
       "    <tr>\n",
       "      <th>70306</th>\n",
       "      <td>206183065</td>\n",
       "      <td>No More Room in Hell</td>\n",
       "      <td>play</td>\n",
       "      <td>7.8</td>\n",
       "      <td>0</td>\n",
       "    </tr>\n",
       "    <tr>\n",
       "      <th>64760</th>\n",
       "      <td>181010210</td>\n",
       "      <td>Neverwinter</td>\n",
       "      <td>play</td>\n",
       "      <td>5.0</td>\n",
       "      <td>0</td>\n",
       "    </tr>\n",
       "    <tr>\n",
       "      <th>169445</th>\n",
       "      <td>122094388</td>\n",
       "      <td>Empire Total War</td>\n",
       "      <td>purchase</td>\n",
       "      <td>1.0</td>\n",
       "      <td>0</td>\n",
       "    </tr>\n",
       "    <tr>\n",
       "      <th>163936</th>\n",
       "      <td>161816812</td>\n",
       "      <td>Left 4 Dead 2</td>\n",
       "      <td>play</td>\n",
       "      <td>4.6</td>\n",
       "      <td>0</td>\n",
       "    </tr>\n",
       "    <tr>\n",
       "      <th>30213</th>\n",
       "      <td>184807923</td>\n",
       "      <td>Unturned</td>\n",
       "      <td>purchase</td>\n",
       "      <td>1.0</td>\n",
       "      <td>0</td>\n",
       "    </tr>\n",
       "  </tbody>\n",
       "</table>\n",
       "</div>"
      ],
      "text/plain": [
       "        151603712                                         game  behavior  \\\n",
       "84605    88035166                              Castle Crashers  purchase   \n",
       "76943    86469479  Antisquad Tasks in North Korea. Tactics DLC  purchase   \n",
       "146287  103624897                 Grand Theft Auto San Andreas      play   \n",
       "147464   47063596                                   Insurgency  purchase   \n",
       "31324    99077905                            Hitman Absolution      play   \n",
       "70306   206183065                         No More Room in Hell      play   \n",
       "64760   181010210                                  Neverwinter      play   \n",
       "169445  122094388                             Empire Total War  purchase   \n",
       "163936  161816812                                Left 4 Dead 2      play   \n",
       "30213   184807923                                     Unturned  purchase   \n",
       "\n",
       "        hoursplay  0  \n",
       "84605         1.0  0  \n",
       "76943         1.0  0  \n",
       "146287        1.9  0  \n",
       "147464        1.0  0  \n",
       "31324         0.5  0  \n",
       "70306         7.8  0  \n",
       "64760         5.0  0  \n",
       "169445        1.0  0  \n",
       "163936        4.6  0  \n",
       "30213         1.0  0  "
      ]
     },
     "execution_count": 34,
     "metadata": {},
     "output_type": "execute_result"
    }
   ],
   "source": [
    "steam.sample(10)"
   ]
  },
  {
   "cell_type": "code",
   "execution_count": 35,
   "id": "96b389ac",
   "metadata": {
    "scrolled": true
   },
   "outputs": [],
   "source": [
    "steam=steam[steam.behavior != 'purchase']"
   ]
  },
  {
   "cell_type": "code",
   "execution_count": null,
   "id": "c6088f29",
   "metadata": {},
   "outputs": [],
   "source": []
  },
  {
   "cell_type": "code",
   "execution_count": 40,
   "id": "c40afb94",
   "metadata": {},
   "outputs": [],
   "source": [
    "steam.drop(labels=['151603712','0'],axis=1,inplace=True)"
   ]
  },
  {
   "cell_type": "code",
   "execution_count": 41,
   "id": "417d33f7",
   "metadata": {},
   "outputs": [
    {
     "data": {
      "text/html": [
       "<div>\n",
       "<style scoped>\n",
       "    .dataframe tbody tr th:only-of-type {\n",
       "        vertical-align: middle;\n",
       "    }\n",
       "\n",
       "    .dataframe tbody tr th {\n",
       "        vertical-align: top;\n",
       "    }\n",
       "\n",
       "    .dataframe thead th {\n",
       "        text-align: right;\n",
       "    }\n",
       "</style>\n",
       "<table border=\"1\" class=\"dataframe\">\n",
       "  <thead>\n",
       "    <tr style=\"text-align: right;\">\n",
       "      <th></th>\n",
       "      <th>hoursplay</th>\n",
       "    </tr>\n",
       "  </thead>\n",
       "  <tbody>\n",
       "    <tr>\n",
       "      <th>count</th>\n",
       "      <td>70489.000000</td>\n",
       "    </tr>\n",
       "    <tr>\n",
       "      <th>mean</th>\n",
       "      <td>48.878063</td>\n",
       "    </tr>\n",
       "    <tr>\n",
       "      <th>std</th>\n",
       "      <td>229.335236</td>\n",
       "    </tr>\n",
       "    <tr>\n",
       "      <th>min</th>\n",
       "      <td>0.100000</td>\n",
       "    </tr>\n",
       "    <tr>\n",
       "      <th>25%</th>\n",
       "      <td>1.000000</td>\n",
       "    </tr>\n",
       "    <tr>\n",
       "      <th>50%</th>\n",
       "      <td>4.500000</td>\n",
       "    </tr>\n",
       "    <tr>\n",
       "      <th>75%</th>\n",
       "      <td>19.100000</td>\n",
       "    </tr>\n",
       "    <tr>\n",
       "      <th>max</th>\n",
       "      <td>11754.000000</td>\n",
       "    </tr>\n",
       "  </tbody>\n",
       "</table>\n",
       "</div>"
      ],
      "text/plain": [
       "          hoursplay\n",
       "count  70489.000000\n",
       "mean      48.878063\n",
       "std      229.335236\n",
       "min        0.100000\n",
       "25%        1.000000\n",
       "50%        4.500000\n",
       "75%       19.100000\n",
       "max    11754.000000"
      ]
     },
     "execution_count": 41,
     "metadata": {},
     "output_type": "execute_result"
    }
   ],
   "source": [
    "steam.describe()"
   ]
  },
  {
   "cell_type": "code",
   "execution_count": 42,
   "id": "20c2141b",
   "metadata": {},
   "outputs": [
    {
     "data": {
      "text/plain": [
       "game         0\n",
       "behavior     0\n",
       "hoursplay    0\n",
       "dtype: int64"
      ]
     },
     "execution_count": 42,
     "metadata": {},
     "output_type": "execute_result"
    }
   ],
   "source": [
    "steam.isna().sum()"
   ]
  },
  {
   "cell_type": "code",
   "execution_count": 43,
   "id": "a4169f74",
   "metadata": {},
   "outputs": [],
   "source": [
    "steam = steam.groupby('game').sum().reset_index()\n",
    "steam = steam.sort_values('hoursplay',ascending = False).reset_index(drop=True)"
   ]
  },
  {
   "cell_type": "code",
   "execution_count": 44,
   "id": "4f34aa8b",
   "metadata": {},
   "outputs": [
    {
     "data": {
      "text/html": [
       "<div>\n",
       "<style scoped>\n",
       "    .dataframe tbody tr th:only-of-type {\n",
       "        vertical-align: middle;\n",
       "    }\n",
       "\n",
       "    .dataframe tbody tr th {\n",
       "        vertical-align: top;\n",
       "    }\n",
       "\n",
       "    .dataframe thead th {\n",
       "        text-align: right;\n",
       "    }\n",
       "</style>\n",
       "<table border=\"1\" class=\"dataframe\">\n",
       "  <thead>\n",
       "    <tr style=\"text-align: right;\">\n",
       "      <th></th>\n",
       "      <th>game</th>\n",
       "      <th>hoursplay</th>\n",
       "    </tr>\n",
       "  </thead>\n",
       "  <tbody>\n",
       "    <tr>\n",
       "      <th>0</th>\n",
       "      <td>Dota 2</td>\n",
       "      <td>981684.6</td>\n",
       "    </tr>\n",
       "    <tr>\n",
       "      <th>1</th>\n",
       "      <td>Counter-Strike Global Offensive</td>\n",
       "      <td>322771.6</td>\n",
       "    </tr>\n",
       "    <tr>\n",
       "      <th>2</th>\n",
       "      <td>Team Fortress 2</td>\n",
       "      <td>173673.3</td>\n",
       "    </tr>\n",
       "    <tr>\n",
       "      <th>3</th>\n",
       "      <td>Counter-Strike</td>\n",
       "      <td>134261.1</td>\n",
       "    </tr>\n",
       "    <tr>\n",
       "      <th>4</th>\n",
       "      <td>Sid Meier's Civilization V</td>\n",
       "      <td>99821.3</td>\n",
       "    </tr>\n",
       "  </tbody>\n",
       "</table>\n",
       "</div>"
      ],
      "text/plain": [
       "                              game  hoursplay\n",
       "0                           Dota 2   981684.6\n",
       "1  Counter-Strike Global Offensive   322771.6\n",
       "2                  Team Fortress 2   173673.3\n",
       "3                   Counter-Strike   134261.1\n",
       "4       Sid Meier's Civilization V    99821.3"
      ]
     },
     "execution_count": 44,
     "metadata": {},
     "output_type": "execute_result"
    }
   ],
   "source": [
    "steam.head()"
   ]
  },
  {
   "cell_type": "code",
   "execution_count": 45,
   "id": "43b21efd",
   "metadata": {
    "scrolled": true
   },
   "outputs": [
    {
     "data": {
      "text/plain": [
       "(3600, 2)"
      ]
     },
     "execution_count": 45,
     "metadata": {},
     "output_type": "execute_result"
    }
   ],
   "source": [
    "steam.shape"
   ]
  },
  {
   "cell_type": "code",
   "execution_count": 46,
   "id": "07089e0b",
   "metadata": {
    "scrolled": false
   },
   "outputs": [],
   "source": [
    "top=steam.loc[[0,1,2]]"
   ]
  },
  {
   "cell_type": "code",
   "execution_count": 47,
   "id": "32eb39d9",
   "metadata": {},
   "outputs": [],
   "source": [
    "outros=steam.loc[3:3600]"
   ]
  },
  {
   "cell_type": "code",
   "execution_count": 48,
   "id": "cad8562a",
   "metadata": {},
   "outputs": [
    {
     "data": {
      "text/html": [
       "<div>\n",
       "<style scoped>\n",
       "    .dataframe tbody tr th:only-of-type {\n",
       "        vertical-align: middle;\n",
       "    }\n",
       "\n",
       "    .dataframe tbody tr th {\n",
       "        vertical-align: top;\n",
       "    }\n",
       "\n",
       "    .dataframe thead th {\n",
       "        text-align: right;\n",
       "    }\n",
       "</style>\n",
       "<table border=\"1\" class=\"dataframe\">\n",
       "  <thead>\n",
       "    <tr style=\"text-align: right;\">\n",
       "      <th></th>\n",
       "      <th>game</th>\n",
       "      <th>hoursplay</th>\n",
       "    </tr>\n",
       "  </thead>\n",
       "  <tbody>\n",
       "    <tr>\n",
       "      <th>3</th>\n",
       "      <td>Counter-Strike</td>\n",
       "      <td>134261.1</td>\n",
       "    </tr>\n",
       "    <tr>\n",
       "      <th>4</th>\n",
       "      <td>Sid Meier's Civilization V</td>\n",
       "      <td>99821.3</td>\n",
       "    </tr>\n",
       "    <tr>\n",
       "      <th>5</th>\n",
       "      <td>Counter-Strike Source</td>\n",
       "      <td>96075.5</td>\n",
       "    </tr>\n",
       "    <tr>\n",
       "      <th>6</th>\n",
       "      <td>The Elder Scrolls V Skyrim</td>\n",
       "      <td>70889.3</td>\n",
       "    </tr>\n",
       "    <tr>\n",
       "      <th>7</th>\n",
       "      <td>Garry's Mod</td>\n",
       "      <td>49725.3</td>\n",
       "    </tr>\n",
       "    <tr>\n",
       "      <th>...</th>\n",
       "      <td>...</td>\n",
       "      <td>...</td>\n",
       "    </tr>\n",
       "    <tr>\n",
       "      <th>3595</th>\n",
       "      <td>Mr. Robot</td>\n",
       "      <td>0.1</td>\n",
       "    </tr>\n",
       "    <tr>\n",
       "      <th>3596</th>\n",
       "      <td>Guardians of Orion</td>\n",
       "      <td>0.1</td>\n",
       "    </tr>\n",
       "    <tr>\n",
       "      <th>3597</th>\n",
       "      <td>Your Doodles Are Bugged!</td>\n",
       "      <td>0.1</td>\n",
       "    </tr>\n",
       "    <tr>\n",
       "      <th>3598</th>\n",
       "      <td>The Fish Fillets 2</td>\n",
       "      <td>0.1</td>\n",
       "    </tr>\n",
       "    <tr>\n",
       "      <th>3599</th>\n",
       "      <td>Tiamat X</td>\n",
       "      <td>0.1</td>\n",
       "    </tr>\n",
       "  </tbody>\n",
       "</table>\n",
       "<p>3597 rows × 2 columns</p>\n",
       "</div>"
      ],
      "text/plain": [
       "                            game  hoursplay\n",
       "3                 Counter-Strike   134261.1\n",
       "4     Sid Meier's Civilization V    99821.3\n",
       "5          Counter-Strike Source    96075.5\n",
       "6     The Elder Scrolls V Skyrim    70889.3\n",
       "7                    Garry's Mod    49725.3\n",
       "...                          ...        ...\n",
       "3595                   Mr. Robot        0.1\n",
       "3596          Guardians of Orion        0.1\n",
       "3597    Your Doodles Are Bugged!        0.1\n",
       "3598          The Fish Fillets 2        0.1\n",
       "3599                    Tiamat X        0.1\n",
       "\n",
       "[3597 rows x 2 columns]"
      ]
     },
     "execution_count": 48,
     "metadata": {},
     "output_type": "execute_result"
    }
   ],
   "source": [
    "outros"
   ]
  },
  {
   "cell_type": "code",
   "execution_count": 49,
   "id": "72555e15",
   "metadata": {},
   "outputs": [
    {
     "data": {
      "text/html": [
       "<div>\n",
       "<style scoped>\n",
       "    .dataframe tbody tr th:only-of-type {\n",
       "        vertical-align: middle;\n",
       "    }\n",
       "\n",
       "    .dataframe tbody tr th {\n",
       "        vertical-align: top;\n",
       "    }\n",
       "\n",
       "    .dataframe thead th {\n",
       "        text-align: right;\n",
       "    }\n",
       "</style>\n",
       "<table border=\"1\" class=\"dataframe\">\n",
       "  <thead>\n",
       "    <tr style=\"text-align: right;\">\n",
       "      <th></th>\n",
       "      <th>hoursplay</th>\n",
       "    </tr>\n",
       "  </thead>\n",
       "  <tbody>\n",
       "    <tr>\n",
       "      <th>count</th>\n",
       "      <td>3597.000000</td>\n",
       "    </tr>\n",
       "    <tr>\n",
       "      <th>mean</th>\n",
       "      <td>546.910286</td>\n",
       "    </tr>\n",
       "    <tr>\n",
       "      <th>std</th>\n",
       "      <td>4128.505593</td>\n",
       "    </tr>\n",
       "    <tr>\n",
       "      <th>min</th>\n",
       "      <td>0.100000</td>\n",
       "    </tr>\n",
       "    <tr>\n",
       "      <th>25%</th>\n",
       "      <td>3.100000</td>\n",
       "    </tr>\n",
       "    <tr>\n",
       "      <th>50%</th>\n",
       "      <td>15.100000</td>\n",
       "    </tr>\n",
       "    <tr>\n",
       "      <th>75%</th>\n",
       "      <td>97.000000</td>\n",
       "    </tr>\n",
       "    <tr>\n",
       "      <th>max</th>\n",
       "      <td>134261.100000</td>\n",
       "    </tr>\n",
       "  </tbody>\n",
       "</table>\n",
       "</div>"
      ],
      "text/plain": [
       "           hoursplay\n",
       "count    3597.000000\n",
       "mean      546.910286\n",
       "std      4128.505593\n",
       "min         0.100000\n",
       "25%         3.100000\n",
       "50%        15.100000\n",
       "75%        97.000000\n",
       "max    134261.100000"
      ]
     },
     "execution_count": 49,
     "metadata": {},
     "output_type": "execute_result"
    }
   ],
   "source": [
    "outros.describe()"
   ]
  },
  {
   "cell_type": "code",
   "execution_count": 50,
   "id": "1dcf342d",
   "metadata": {},
   "outputs": [
    {
     "data": {
      "text/plain": [
       "1967236.2999999998"
      ]
     },
     "execution_count": 50,
     "metadata": {},
     "output_type": "execute_result"
    }
   ],
   "source": [
    "outros['hoursplay'].sum()"
   ]
  },
  {
   "cell_type": "code",
   "execution_count": 51,
   "id": "dba03c88",
   "metadata": {},
   "outputs": [
    {
     "data": {
      "text/html": [
       "<div>\n",
       "<style scoped>\n",
       "    .dataframe tbody tr th:only-of-type {\n",
       "        vertical-align: middle;\n",
       "    }\n",
       "\n",
       "    .dataframe tbody tr th {\n",
       "        vertical-align: top;\n",
       "    }\n",
       "\n",
       "    .dataframe thead th {\n",
       "        text-align: right;\n",
       "    }\n",
       "</style>\n",
       "<table border=\"1\" class=\"dataframe\">\n",
       "  <thead>\n",
       "    <tr style=\"text-align: right;\">\n",
       "      <th></th>\n",
       "      <th>game</th>\n",
       "      <th>hoursplay</th>\n",
       "    </tr>\n",
       "  </thead>\n",
       "  <tbody>\n",
       "    <tr>\n",
       "      <th>0</th>\n",
       "      <td>Dota 2</td>\n",
       "      <td>981684.6</td>\n",
       "    </tr>\n",
       "    <tr>\n",
       "      <th>1</th>\n",
       "      <td>Counter-Strike Global Offensive</td>\n",
       "      <td>322771.6</td>\n",
       "    </tr>\n",
       "    <tr>\n",
       "      <th>2</th>\n",
       "      <td>Team Fortress 2</td>\n",
       "      <td>173673.3</td>\n",
       "    </tr>\n",
       "  </tbody>\n",
       "</table>\n",
       "</div>"
      ],
      "text/plain": [
       "                              game  hoursplay\n",
       "0                           Dota 2   981684.6\n",
       "1  Counter-Strike Global Offensive   322771.6\n",
       "2                  Team Fortress 2   173673.3"
      ]
     },
     "execution_count": 51,
     "metadata": {},
     "output_type": "execute_result"
    }
   ],
   "source": [
    "top"
   ]
  },
  {
   "cell_type": "code",
   "execution_count": 52,
   "id": "3c57b547",
   "metadata": {},
   "outputs": [],
   "source": [
    "novo_valor={'game':'Outros', 'hoursplay':'1967236.2'}"
   ]
  },
  {
   "cell_type": "code",
   "execution_count": 53,
   "id": "4a56ac7c",
   "metadata": {},
   "outputs": [],
   "source": [
    "top = top.append(novo_valor, ignore_index=True)"
   ]
  },
  {
   "cell_type": "code",
   "execution_count": 54,
   "id": "6b3a14ef",
   "metadata": {},
   "outputs": [
    {
     "data": {
      "text/html": [
       "<div>\n",
       "<style scoped>\n",
       "    .dataframe tbody tr th:only-of-type {\n",
       "        vertical-align: middle;\n",
       "    }\n",
       "\n",
       "    .dataframe tbody tr th {\n",
       "        vertical-align: top;\n",
       "    }\n",
       "\n",
       "    .dataframe thead th {\n",
       "        text-align: right;\n",
       "    }\n",
       "</style>\n",
       "<table border=\"1\" class=\"dataframe\">\n",
       "  <thead>\n",
       "    <tr style=\"text-align: right;\">\n",
       "      <th></th>\n",
       "      <th>game</th>\n",
       "      <th>hoursplay</th>\n",
       "    </tr>\n",
       "  </thead>\n",
       "  <tbody>\n",
       "    <tr>\n",
       "      <th>0</th>\n",
       "      <td>Dota 2</td>\n",
       "      <td>981684.6</td>\n",
       "    </tr>\n",
       "    <tr>\n",
       "      <th>1</th>\n",
       "      <td>Counter-Strike Global Offensive</td>\n",
       "      <td>322771.6</td>\n",
       "    </tr>\n",
       "    <tr>\n",
       "      <th>2</th>\n",
       "      <td>Team Fortress 2</td>\n",
       "      <td>173673.3</td>\n",
       "    </tr>\n",
       "    <tr>\n",
       "      <th>3</th>\n",
       "      <td>Outros</td>\n",
       "      <td>1967236.2</td>\n",
       "    </tr>\n",
       "  </tbody>\n",
       "</table>\n",
       "</div>"
      ],
      "text/plain": [
       "                              game  hoursplay\n",
       "0                           Dota 2   981684.6\n",
       "1  Counter-Strike Global Offensive   322771.6\n",
       "2                  Team Fortress 2   173673.3\n",
       "3                           Outros  1967236.2"
      ]
     },
     "execution_count": 54,
     "metadata": {},
     "output_type": "execute_result"
    }
   ],
   "source": [
    "top"
   ]
  },
  {
   "cell_type": "code",
   "execution_count": 55,
   "id": "0cebc4bf",
   "metadata": {
    "scrolled": true
   },
   "outputs": [
    {
     "data": {
      "image/png": "[encoded data removed]",
      "text/plain": [
       "<Figure size 432x288 with 1 Axes>"
      ]
     },
     "metadata": {},
     "output_type": "display_data"
    }
   ],
   "source": [
    "#define data\n",
    "data = top['hoursplay']\n",
    "labels = ['Dota 2', 'CS Global Offensive', 'Team Fortress 2', 'Outros']\n",
    "\n",
    "#define Seaborn color palette to use\n",
    "colors = sns.color_palette('muted')[0:5]\n",
    "\n",
    "#create pie chart\n",
    "Grafico=plt.pie(data, labels = labels, colors = colors, autopct='%.0f%%', shadow = True, explode = (0.1, 0.1, 0.1, 0.1))\n",
    "plt.title('Maior número de horas jogadas - Steam')\n",
    "plt.savefig('foo.jpg')\n",
    "plt.show()"
   ]
  },
  {
   "cell_type": "code",
   "execution_count": 56,
   "id": "09c1930d",
   "metadata": {
    "scrolled": true
   },
   "outputs": [],
   "source": [
    "ablueblue=top.drop(labels=0,axis=0,inplace=True)\n",
    "ablueblue"
   ]
  },
  {
   "cell_type": "code",
   "execution_count": 57,
   "id": "68a890e9",
   "metadata": {},
   "outputs": [
    {
     "data": {
      "text/plain": [
       "[1, 2, 3, 4, 5, 6, 7, 8, 9]"
      ]
     },
     "execution_count": 57,
     "metadata": {},
     "output_type": "execute_result"
    }
   ],
   "source": [
    "seq= list(range(1,10))\n",
    "seq"
   ]
  },
  {
   "cell_type": "code",
   "execution_count": 58,
   "id": "2d0ce9a1",
   "metadata": {},
   "outputs": [],
   "source": [
    "teste=slice(3,5)"
   ]
  },
  {
   "cell_type": "code",
   "execution_count": 59,
   "id": "be2a4810",
   "metadata": {},
   "outputs": [
    {
     "name": "stdout",
     "output_type": "stream",
     "text": [
      "[4, 5]\n"
     ]
    }
   ],
   "source": [
    "print(seq[teste])"
   ]
  },
  {
   "cell_type": "code",
   "execution_count": 60,
   "id": "03e2bec8",
   "metadata": {},
   "outputs": [
    {
     "name": "stdout",
     "output_type": "stream",
     "text": [
      "['n', 'o', 'h']\n",
      "('n', 'h')\n"
     ]
    }
   ],
   "source": [
    "py_list = ['P', 'y', 't', 'h', 'o', 'n']\n",
    "py_tuple = ('P', 'y', 't', 'h', 'o', 'n')\n",
    "\n",
    "# contains indices -1, -2 and -3\n",
    "slice_object = slice(-1, -4, -1) \n",
    "print(py_list[slice_object])  # ['n', 'o', 'h']\n",
    "\n",
    "# contains indices -1 and -3\n",
    "slice_object = slice(-1, -5, -2)\n",
    "print(py_tuple[slice_object]) # ('n', 'h')"
   ]
  },
  {
   "cell_type": "code",
   "execution_count": 61,
   "id": "ad24680e",
   "metadata": {},
   "outputs": [
    {
     "data": {
      "text/plain": [
       "'de'"
      ]
     },
     "execution_count": 61,
     "metadata": {},
     "output_type": "execute_result"
    }
   ],
   "source": [
    "d='dente'[:2]\n",
    "d"
   ]
  },
  {
   "cell_type": "code",
   "execution_count": null,
   "id": "6649f0ef",
   "metadata": {},
   "outputs": [],
   "source": []
  }
 ],
 "metadata": {
  "kernelspec": {
   "display_name": "Python 3 (ipykernel)",
   "language": "python",
   "name": "python3"
  },
  "language_info": {
   "codemirror_mode": {
    "name": "ipython",
    "version": 3
   },
   "file_extension": ".py",
   "mimetype": "text/x-python",
   "name": "python",
   "nbconvert_exporter": "python",
   "pygments_lexer": "ipython3",
   "version": "3.9.7"
  }
 },
 "nbformat": 4,
 "nbformat_minor": 5
}
